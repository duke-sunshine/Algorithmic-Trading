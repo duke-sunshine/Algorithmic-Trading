{
  "nbformat": 4,
  "nbformat_minor": 0,
  "metadata": {
    "colab": {
      "name": "DeFi Data.ipynb",
      "private_outputs": true,
      "provenance": [],
      "authorship_tag": "ABX9TyOQYEv1vve1YJ+ZWmu2ADno",
      "include_colab_link": true
    },
    "kernelspec": {
      "name": "python3",
      "display_name": "Python 3"
    },
    "language_info": {
      "name": "python"
    }
  },
  "cells": [
    {
      "cell_type": "markdown",
      "metadata": {
        "id": "view-in-github",
        "colab_type": "text"
      },
      "source": [
        "<a href=\"https://colab.research.google.com/github/duke-sunshine/Algorithmic-Trading/blob/main/DeFi_Data.ipynb\" target=\"_parent\"><img src=\"https://colab.research.google.com/assets/colab-badge.svg\" alt=\"Open In Colab\"/></a>"
      ]
    },
    {
      "cell_type": "markdown",
      "metadata": {
        "id": "OqUdK1WgCc_5"
      },
      "source": [
        "https://docs.defipulse.com/overview-of-api-endpoints\n",
        "\n",
        "https://data-beta.defipulse.com/dashboard/egs\n",
        "\n",
        "https://docs.defipulse.com/api-docs-by-provider/defi-pulse-data/total-value-locked/total-value-locked"
      ]
    },
    {
      "cell_type": "code",
      "metadata": {
        "id": "4MrBs-tSCV_3"
      },
      "source": [
        "import pandas as pd\n",
        "import requests\n",
        "import json \n",
        "from datetime import datetime\n",
        "TVL_Lending = requests.get('https://data-api.defipulse.com/api/v1/defipulse/api/GetHistory?resolution=history&project=all&category=lending&api-key=5eafa87608af1f342443fc1fc293d5a596f3aa509526c9c0f663a1b5723a')\n",
        "TVL_Lending = TVL_Lending.json()\n",
        "TVL_Lending =pd.DataFrame(TVL_Lending)\n",
        "TVL_Lending.head()"
      ],
      "execution_count": null,
      "outputs": []
    },
    {
      "cell_type": "markdown",
      "metadata": {
        "id": "lADaKOkD8pJY"
      },
      "source": [
        ""
      ]
    },
    {
      "cell_type": "code",
      "metadata": {
        "id": "8werVwlsOLtE"
      },
      "source": [
        "TVL_Lending['Category']='Lending'\n",
        "TVL_Lending.head()"
      ],
      "execution_count": null,
      "outputs": []
    },
    {
      "cell_type": "code",
      "metadata": {
        "id": "zjjQYPjNPbPs"
      },
      "source": [
        "import requests\n",
        "import json \n",
        "Lending = requests.get('https://data-api.defipulse.com/api/v1/defipulse/api/getLendingHistory?resolution=history&api-key=5eafa87608af1f342443fc1fc293d5a596f3aa509526c9c0f663a1b5723a')\n",
        "Lending = Lending.json()\n",
        "Lending =pd.DataFrame(Lending)"
      ],
      "execution_count": null,
      "outputs": []
    },
    {
      "cell_type": "markdown",
      "metadata": {
        "id": "8gyf3DDOQu_v"
      },
      "source": [
        "https://blog.csdn.net/weixin_39750084/article/details/81429037"
      ]
    },
    {
      "cell_type": "markdown",
      "metadata": {
        "id": "Gz2mFS1FROcz"
      },
      "source": [
        "https://www.geeksforgeeks.org/python-convert-list-of-nested-dictionary-into-pandas-dataframe/"
      ]
    },
    {
      "cell_type": "code",
      "metadata": {
        "id": "D4_v-8dhQivp"
      },
      "source": [
        "Lending.head()"
      ],
      "execution_count": null,
      "outputs": []
    },
    {
      "cell_type": "code",
      "metadata": {
        "id": "_9YChc3vQ5Mt"
      },
      "source": [
        "lend_rates = Lending['lend_rates'].to_list()\n",
        "lend_rates=pd.DataFrame(lend_rates)\n",
        "lend_rates['timestamp']=Lending['timestamp']\n",
        "lend_rates.head()"
      ],
      "execution_count": null,
      "outputs": []
    },
    {
      "cell_type": "code",
      "metadata": {
        "id": "40MSA86oWFL1"
      },
      "source": [
        "borrow_rates = Lending['borrow_rates'].to_list()\n",
        "borrow_rates=pd.DataFrame(borrow_rates)\n",
        "borrow_rates['timestamp']=Lending['timestamp']\n",
        "borrow_rates.head()"
      ],
      "execution_count": null,
      "outputs": []
    },
    {
      "cell_type": "code",
      "metadata": {
        "id": "nRW0nt4VWQcO"
      },
      "source": [
        "interest_speed = Lending['interest_speed'].to_list()\n",
        "interest_speed=pd.DataFrame(borrow_rates)\n",
        "interest_speed['timestamp']=interest_speed['timestamp']\n",
        "interest_speed.head()"
      ],
      "execution_count": null,
      "outputs": []
    },
    {
      "cell_type": "code",
      "metadata": {
        "id": "ZnksfVzBWaX9"
      },
      "source": [
        "outstanding = Lending['outstanding'].to_list()\n",
        "outstanding=pd.DataFrame(borrow_rates)\n",
        "outstanding['timestamp']=Lending['timestamp']\n",
        "outstanding.head()"
      ],
      "execution_count": null,
      "outputs": []
    },
    {
      "cell_type": "code",
      "metadata": {
        "id": "UNROij9OWjmm"
      },
      "source": [
        "import requests\n",
        "import json \n",
        "from datetime import datetime\n",
        "Compound_TVL = requests.get('https://data-api.defipulse.com/api/v1/defipulse/api/GetHistory?resolution=history&project=compound&api-key=5eafa87608af1f342443fc1fc293d5a596f3aa509526c9c0f663a1b5723a')\n",
        "Compound_TVL = Compound_TVL.json()\n",
        "Compound_TVL =pd.DataFrame(Compound_TVL)\n",
        "Compound_TVL.head()"
      ],
      "execution_count": null,
      "outputs": []
    },
    {
      "cell_type": "code",
      "metadata": {
        "id": "oWbgnyweW7Ll"
      },
      "source": [
        "Compound_TVL['project']='Compound'\n",
        "Compound_TVL.head()"
      ],
      "execution_count": null,
      "outputs": []
    },
    {
      "cell_type": "code",
      "metadata": {
        "id": "3o-hExdrXIr1"
      },
      "source": [
        "import requests\n",
        "import json \n",
        "from datetime import datetime\n",
        "aave_TVL = requests.get('https://data-api.defipulse.com/api/v1/defipulse/api/GetHistory?resolution=history&project=aave&api-key=5eafa87608af1f342443fc1fc293d5a596f3aa509526c9c0f663a1b5723a')\n",
        "aave_TVL = aave_TVL.json()\n",
        "aave_TVL =pd.DataFrame(aave_TVL)\n",
        "aave_TVL.head()"
      ],
      "execution_count": null,
      "outputs": []
    },
    {
      "cell_type": "code",
      "metadata": {
        "id": "7B1GswsKXX5n"
      },
      "source": [
        "Compound_TVL['project']='aave'\n",
        "Compound_TVL.head()"
      ],
      "execution_count": null,
      "outputs": []
    },
    {
      "cell_type": "code",
      "metadata": {
        "id": "Q-ChN57DXegd"
      },
      "source": [
        ""
      ],
      "execution_count": null,
      "outputs": []
    }
  ]
}